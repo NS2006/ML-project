{
 "cells": [
  {
   "cell_type": "markdown",
   "id": "a5a847f4",
   "metadata": {},
   "source": [
    "# Import"
   ]
  },
  {
   "cell_type": "code",
   "execution_count": 14,
   "id": "7efb3e2c",
   "metadata": {},
   "outputs": [],
   "source": [
    "from sklearn.model_selection import train_test_split\n",
    "from sklearn.preprocessing import StandardScaler, OneHotEncoder\n",
    "from sklearn.linear_model import LogisticRegression\n",
    "from sklearn.pipeline import Pipeline\n",
    "from sklearn.metrics import accuracy_score, classification_report\n",
    "from sklearn.compose import ColumnTransformer\n",
    "from sklearn.impute import SimpleImputer\n",
    "from sklearn.model_selection import GridSearchCV\n",
    "\n",
    "import pandas as pd\n",
    "import pickle"
   ]
  },
  {
   "cell_type": "code",
   "execution_count": 15,
   "id": "630acbfe",
   "metadata": {},
   "outputs": [],
   "source": [
    "df = pd.read_csv('dataset.csv')\n",
    "\n",
    "\n",
    "# Change from 1-10 into these labels below\n",
    "bins = [0, 2, 4, 6, 8, 10]  # Adjust ranges as needed\n",
    "labels = [\"Very Poor\", \"Poor\", \"Fair\", \"Good\", \"Excellent\"]\n",
    "\n",
    "df[\"Quality of Sleep\"] = pd.cut(\n",
    "    df[\"Quality of Sleep\"],\n",
    "    bins=bins,\n",
    "    labels=labels,\n",
    "    include_lowest=True\n",
    ")"
   ]
  },
  {
   "cell_type": "markdown",
   "id": "24888abb",
   "metadata": {},
   "source": [
    "# EDA"
   ]
  },
  {
   "cell_type": "code",
   "execution_count": 16,
   "id": "76f00be2",
   "metadata": {},
   "outputs": [
    {
     "name": "stdout",
     "output_type": "stream",
     "text": [
      "<class 'pandas.core.frame.DataFrame'>\n",
      "RangeIndex: 374 entries, 0 to 373\n",
      "Data columns (total 13 columns):\n",
      " #   Column                   Non-Null Count  Dtype   \n",
      "---  ------                   --------------  -----   \n",
      " 0   Person ID                374 non-null    int64   \n",
      " 1   Gender                   374 non-null    object  \n",
      " 2   Age                      374 non-null    int64   \n",
      " 3   Occupation               374 non-null    object  \n",
      " 4   Sleep Duration           374 non-null    float64 \n",
      " 5   Quality of Sleep         374 non-null    category\n",
      " 6   Physical Activity Level  374 non-null    int64   \n",
      " 7   Stress Level             374 non-null    int64   \n",
      " 8   BMI Category             374 non-null    object  \n",
      " 9   Blood Pressure           374 non-null    object  \n",
      " 10  Heart Rate               374 non-null    int64   \n",
      " 11  Daily Steps              374 non-null    int64   \n",
      " 12  Sleep Disorder           155 non-null    object  \n",
      "dtypes: category(1), float64(1), int64(6), object(5)\n",
      "memory usage: 35.8+ KB\n"
     ]
    }
   ],
   "source": [
    "df.info()"
   ]
  },
  {
   "cell_type": "code",
   "execution_count": 17,
   "id": "04768ff2",
   "metadata": {},
   "outputs": [
    {
     "data": {
      "text/html": [
       "<div>\n",
       "<style scoped>\n",
       "    .dataframe tbody tr th:only-of-type {\n",
       "        vertical-align: middle;\n",
       "    }\n",
       "\n",
       "    .dataframe tbody tr th {\n",
       "        vertical-align: top;\n",
       "    }\n",
       "\n",
       "    .dataframe thead th {\n",
       "        text-align: right;\n",
       "    }\n",
       "</style>\n",
       "<table border=\"1\" class=\"dataframe\">\n",
       "  <thead>\n",
       "    <tr style=\"text-align: right;\">\n",
       "      <th></th>\n",
       "      <th>Person ID</th>\n",
       "      <th>Age</th>\n",
       "      <th>Sleep Duration</th>\n",
       "      <th>Physical Activity Level</th>\n",
       "      <th>Stress Level</th>\n",
       "      <th>Heart Rate</th>\n",
       "      <th>Daily Steps</th>\n",
       "    </tr>\n",
       "  </thead>\n",
       "  <tbody>\n",
       "    <tr>\n",
       "      <th>count</th>\n",
       "      <td>374.000000</td>\n",
       "      <td>374.000000</td>\n",
       "      <td>374.000000</td>\n",
       "      <td>374.000000</td>\n",
       "      <td>374.000000</td>\n",
       "      <td>374.000000</td>\n",
       "      <td>374.000000</td>\n",
       "    </tr>\n",
       "    <tr>\n",
       "      <th>mean</th>\n",
       "      <td>187.500000</td>\n",
       "      <td>42.184492</td>\n",
       "      <td>7.132086</td>\n",
       "      <td>59.171123</td>\n",
       "      <td>5.385027</td>\n",
       "      <td>70.165775</td>\n",
       "      <td>6816.844920</td>\n",
       "    </tr>\n",
       "    <tr>\n",
       "      <th>std</th>\n",
       "      <td>108.108742</td>\n",
       "      <td>8.673133</td>\n",
       "      <td>0.795657</td>\n",
       "      <td>20.830804</td>\n",
       "      <td>1.774526</td>\n",
       "      <td>4.135676</td>\n",
       "      <td>1617.915679</td>\n",
       "    </tr>\n",
       "    <tr>\n",
       "      <th>min</th>\n",
       "      <td>1.000000</td>\n",
       "      <td>27.000000</td>\n",
       "      <td>5.800000</td>\n",
       "      <td>30.000000</td>\n",
       "      <td>3.000000</td>\n",
       "      <td>65.000000</td>\n",
       "      <td>3000.000000</td>\n",
       "    </tr>\n",
       "    <tr>\n",
       "      <th>25%</th>\n",
       "      <td>94.250000</td>\n",
       "      <td>35.250000</td>\n",
       "      <td>6.400000</td>\n",
       "      <td>45.000000</td>\n",
       "      <td>4.000000</td>\n",
       "      <td>68.000000</td>\n",
       "      <td>5600.000000</td>\n",
       "    </tr>\n",
       "    <tr>\n",
       "      <th>50%</th>\n",
       "      <td>187.500000</td>\n",
       "      <td>43.000000</td>\n",
       "      <td>7.200000</td>\n",
       "      <td>60.000000</td>\n",
       "      <td>5.000000</td>\n",
       "      <td>70.000000</td>\n",
       "      <td>7000.000000</td>\n",
       "    </tr>\n",
       "    <tr>\n",
       "      <th>75%</th>\n",
       "      <td>280.750000</td>\n",
       "      <td>50.000000</td>\n",
       "      <td>7.800000</td>\n",
       "      <td>75.000000</td>\n",
       "      <td>7.000000</td>\n",
       "      <td>72.000000</td>\n",
       "      <td>8000.000000</td>\n",
       "    </tr>\n",
       "    <tr>\n",
       "      <th>max</th>\n",
       "      <td>374.000000</td>\n",
       "      <td>59.000000</td>\n",
       "      <td>8.500000</td>\n",
       "      <td>90.000000</td>\n",
       "      <td>8.000000</td>\n",
       "      <td>86.000000</td>\n",
       "      <td>10000.000000</td>\n",
       "    </tr>\n",
       "  </tbody>\n",
       "</table>\n",
       "</div>"
      ],
      "text/plain": [
       "        Person ID         Age  Sleep Duration  Physical Activity Level  \\\n",
       "count  374.000000  374.000000      374.000000               374.000000   \n",
       "mean   187.500000   42.184492        7.132086                59.171123   \n",
       "std    108.108742    8.673133        0.795657                20.830804   \n",
       "min      1.000000   27.000000        5.800000                30.000000   \n",
       "25%     94.250000   35.250000        6.400000                45.000000   \n",
       "50%    187.500000   43.000000        7.200000                60.000000   \n",
       "75%    280.750000   50.000000        7.800000                75.000000   \n",
       "max    374.000000   59.000000        8.500000                90.000000   \n",
       "\n",
       "       Stress Level  Heart Rate   Daily Steps  \n",
       "count    374.000000  374.000000    374.000000  \n",
       "mean       5.385027   70.165775   6816.844920  \n",
       "std        1.774526    4.135676   1617.915679  \n",
       "min        3.000000   65.000000   3000.000000  \n",
       "25%        4.000000   68.000000   5600.000000  \n",
       "50%        5.000000   70.000000   7000.000000  \n",
       "75%        7.000000   72.000000   8000.000000  \n",
       "max        8.000000   86.000000  10000.000000  "
      ]
     },
     "execution_count": 17,
     "metadata": {},
     "output_type": "execute_result"
    }
   ],
   "source": [
    "df.describe()"
   ]
  },
  {
   "cell_type": "code",
   "execution_count": 18,
   "id": "4b22dde0",
   "metadata": {},
   "outputs": [
    {
     "data": {
      "text/plain": [
       "array([[<Axes: title={'center': 'Person ID'}>,\n",
       "        <Axes: title={'center': 'Age'}>,\n",
       "        <Axes: title={'center': 'Sleep Duration'}>],\n",
       "       [<Axes: title={'center': 'Physical Activity Level'}>,\n",
       "        <Axes: title={'center': 'Stress Level'}>,\n",
       "        <Axes: title={'center': 'Heart Rate'}>],\n",
       "       [<Axes: title={'center': 'Daily Steps'}>, <Axes: >, <Axes: >]],\n",
       "      dtype=object)"
      ]
     },
     "execution_count": 18,
     "metadata": {},
     "output_type": "execute_result"
    },
    {
     "data": {
      "image/png": "[encoded data removed]",
      "text/plain": [
       "<Figure size 640x480 with 9 Axes>"
      ]
     },
     "metadata": {},
     "output_type": "display_data"
    }
   ],
   "source": [
    "df.hist()"
   ]
  },
  {
   "cell_type": "code",
   "execution_count": 19,
   "id": "384c5888",
   "metadata": {},
   "outputs": [
    {
     "data": {
      "text/plain": [
       "Heart Rate\n",
       "68    94\n",
       "70    76\n",
       "72    69\n",
       "65    67\n",
       "75    36\n",
       "78     5\n",
       "85     3\n",
       "80     3\n",
       "77     2\n",
       "76     2\n",
       "69     2\n",
       "67     2\n",
       "81     2\n",
       "84     2\n",
       "74     2\n",
       "83     2\n",
       "73     2\n",
       "86     2\n",
       "82     1\n",
       "Name: count, dtype: int64"
      ]
     },
     "execution_count": 19,
     "metadata": {},
     "output_type": "execute_result"
    }
   ],
   "source": [
    "df['Heart Rate'].value_counts()"
   ]
  },
  {
   "cell_type": "markdown",
   "id": "39657857",
   "metadata": {},
   "source": [
    "# Split Dataset"
   ]
  },
  {
   "cell_type": "code",
   "execution_count": 20,
   "id": "cad519eb",
   "metadata": {},
   "outputs": [
    {
     "name": "stdout",
     "output_type": "stream",
     "text": [
      "(299, 11)\n",
      "(75, 11)\n",
      "(299,)\n",
      "(75,)\n"
     ]
    }
   ],
   "source": [
    "X = df.drop(columns=['Quality of Sleep', 'Person ID'])\n",
    "y = df[\"Quality of Sleep\"]\n",
    "\n",
    "X_train, X_test, y_train, y_test = train_test_split(X, y, test_size=0.2, random_state=26)\n",
    "\n",
    "print(X_train.shape)\n",
    "print(X_test.shape)\n",
    "print(y_train.shape)\n",
    "print(y_test.shape)"
   ]
  },
  {
   "cell_type": "markdown",
   "id": "bc5ede45",
   "metadata": {},
   "source": [
    "# Model"
   ]
  },
  {
   "cell_type": "code",
   "execution_count": 21,
   "id": "63878bd6",
   "metadata": {},
   "outputs": [],
   "source": [
    "num_cols = X.select_dtypes(include=['float64', 'int64']).columns\n",
    "obj_cols = X.select_dtypes(include=['object']).columns\n",
    "\n",
    "preprocessor = ColumnTransformer(\n",
    "    transformers=[\n",
    "        ('num', Pipeline([\n",
    "            ('imputer', SimpleImputer(strategy='median')),\n",
    "            ('scaler', StandardScaler())\n",
    "        ]), num_cols),\n",
    "        ('obj', Pipeline([\n",
    "            ('imputer', SimpleImputer(strategy='most_frequent')),\n",
    "            ('encoder', OneHotEncoder(handle_unknown='ignore'))\n",
    "        ]), obj_cols)\n",
    "    ]\n",
    ")"
   ]
  },
  {
   "cell_type": "code",
   "execution_count": 22,
   "id": "2300956b",
   "metadata": {},
   "outputs": [
    {
     "name": "stderr",
     "output_type": "stream",
     "text": [
      "c:\\Users\\Niko Sutiono\\AppData\\Local\\Programs\\Python\\Python313\\Lib\\site-packages\\sklearn\\model_selection\\_validation.py:528: FitFailedWarning: \n",
      "54 fits failed out of a total of 162.\n",
      "The score on these train-test partitions for these parameters will be set to nan.\n",
      "If these failures are not expected, you can try to debug them by setting error_score='raise'.\n",
      "\n",
      "Below are more details about the failures:\n",
      "--------------------------------------------------------------------------------\n",
      "27 fits failed with the following error:\n",
      "Traceback (most recent call last):\n",
      "  File \"c:\\Users\\Niko Sutiono\\AppData\\Local\\Programs\\Python\\Python313\\Lib\\site-packages\\sklearn\\model_selection\\_validation.py\", line 866, in _fit_and_score\n",
      "    estimator.fit(X_train, y_train, **fit_params)\n",
      "    ~~~~~~~~~~~~~^^^^^^^^^^^^^^^^^^^^^^^^^^^^^^^^\n",
      "  File \"c:\\Users\\Niko Sutiono\\AppData\\Local\\Programs\\Python\\Python313\\Lib\\site-packages\\sklearn\\base.py\", line 1389, in wrapper\n",
      "    return fit_method(estimator, *args, **kwargs)\n",
      "  File \"c:\\Users\\Niko Sutiono\\AppData\\Local\\Programs\\Python\\Python313\\Lib\\site-packages\\sklearn\\pipeline.py\", line 660, in fit\n",
      "    self._final_estimator.fit(Xt, y, **last_step_params[\"fit\"])\n",
      "    ~~~~~~~~~~~~~~~~~~~~~~~~~^^^^^^^^^^^^^^^^^^^^^^^^^^^^^^^^^^\n",
      "  File \"c:\\Users\\Niko Sutiono\\AppData\\Local\\Programs\\Python\\Python313\\Lib\\site-packages\\sklearn\\base.py\", line 1389, in wrapper\n",
      "    return fit_method(estimator, *args, **kwargs)\n",
      "  File \"c:\\Users\\Niko Sutiono\\AppData\\Local\\Programs\\Python\\Python313\\Lib\\site-packages\\sklearn\\linear_model\\_logistic.py\", line 1193, in fit\n",
      "    solver = _check_solver(self.solver, self.penalty, self.dual)\n",
      "  File \"c:\\Users\\Niko Sutiono\\AppData\\Local\\Programs\\Python\\Python313\\Lib\\site-packages\\sklearn\\linear_model\\_logistic.py\", line 63, in _check_solver\n",
      "    raise ValueError(\n",
      "    ...<2 lines>...\n",
      "    )\n",
      "ValueError: Solver lbfgs supports only 'l2' or None penalties, got l1 penalty.\n",
      "\n",
      "--------------------------------------------------------------------------------\n",
      "27 fits failed with the following error:\n",
      "Traceback (most recent call last):\n",
      "  File \"c:\\Users\\Niko Sutiono\\AppData\\Local\\Programs\\Python\\Python313\\Lib\\site-packages\\sklearn\\model_selection\\_validation.py\", line 866, in _fit_and_score\n",
      "    estimator.fit(X_train, y_train, **fit_params)\n",
      "    ~~~~~~~~~~~~~^^^^^^^^^^^^^^^^^^^^^^^^^^^^^^^^\n",
      "  File \"c:\\Users\\Niko Sutiono\\AppData\\Local\\Programs\\Python\\Python313\\Lib\\site-packages\\sklearn\\base.py\", line 1389, in wrapper\n",
      "    return fit_method(estimator, *args, **kwargs)\n",
      "  File \"c:\\Users\\Niko Sutiono\\AppData\\Local\\Programs\\Python\\Python313\\Lib\\site-packages\\sklearn\\pipeline.py\", line 660, in fit\n",
      "    self._final_estimator.fit(Xt, y, **last_step_params[\"fit\"])\n",
      "    ~~~~~~~~~~~~~~~~~~~~~~~~~^^^^^^^^^^^^^^^^^^^^^^^^^^^^^^^^^^\n",
      "  File \"c:\\Users\\Niko Sutiono\\AppData\\Local\\Programs\\Python\\Python313\\Lib\\site-packages\\sklearn\\base.py\", line 1389, in wrapper\n",
      "    return fit_method(estimator, *args, **kwargs)\n",
      "  File \"c:\\Users\\Niko Sutiono\\AppData\\Local\\Programs\\Python\\Python313\\Lib\\site-packages\\sklearn\\linear_model\\_logistic.py\", line 1193, in fit\n",
      "    solver = _check_solver(self.solver, self.penalty, self.dual)\n",
      "  File \"c:\\Users\\Niko Sutiono\\AppData\\Local\\Programs\\Python\\Python313\\Lib\\site-packages\\sklearn\\linear_model\\_logistic.py\", line 63, in _check_solver\n",
      "    raise ValueError(\n",
      "    ...<2 lines>...\n",
      "    )\n",
      "ValueError: Solver newton-cg supports only 'l2' or None penalties, got l1 penalty.\n",
      "\n",
      "  warnings.warn(some_fits_failed_message, FitFailedWarning)\n",
      "c:\\Users\\Niko Sutiono\\AppData\\Local\\Programs\\Python\\Python313\\Lib\\site-packages\\sklearn\\model_selection\\_search.py:1107: UserWarning: One or more of the test scores are non-finite: [       nan 0.95983165        nan 0.97666667 0.96653199 0.97666667\n",
      "        nan 0.95983165        nan 0.97666667 0.96653199 0.97666667\n",
      "        nan 0.95983165        nan 0.97666667 0.96653199 0.97666667\n",
      "        nan 0.95646465        nan 0.97666667 0.96319865 0.97666667\n",
      "        nan 0.95646465        nan 0.97666667 0.96319865 0.97666667\n",
      "        nan 0.95646465        nan 0.97666667 0.96319865 0.97666667\n",
      "        nan 0.95646465        nan 0.97666667 0.96319865 0.97666667\n",
      "        nan 0.95646465        nan 0.97666667 0.96319865 0.97666667\n",
      "        nan 0.95646465        nan 0.97666667 0.96319865 0.97666667]\n",
      "  warnings.warn(\n"
     ]
    }
   ],
   "source": [
    "model = Pipeline([\n",
    "    ('preprocessor', preprocessor),\n",
    "    ('classifier', LogisticRegression())\n",
    "])\n",
    "\n",
    "param_grid = {\n",
    "    'classifier__C': [0.9, 1.0, 1.1],\n",
    "    'classifier__penalty': ['l1', 'l2'],\n",
    "    'classifier__max_iter': [100, 200, 300],\n",
    "    'classifier__solver': ['lbfgs', 'liblinear', 'newton-cg']\n",
    "}\n",
    "\n",
    "\n",
    "grid = GridSearchCV(model, param_grid, cv=3)\n",
    "\n",
    "grid.fit(X_train, y_train)\n",
    "\n",
    "y_train_pred = grid.predict(X_train)\n",
    "y_test_pred = grid.predict(X_test)"
   ]
  },
  {
   "cell_type": "code",
   "execution_count": 23,
   "id": "19ffbdb2",
   "metadata": {},
   "outputs": [
    {
     "name": "stdout",
     "output_type": "stream",
     "text": [
      "{'classifier__C': 0.9, 'classifier__max_iter': 100, 'classifier__penalty': 'l2', 'classifier__solver': 'lbfgs'}\n"
     ]
    }
   ],
   "source": [
    "print(grid.best_params_)"
   ]
  },
  {
   "cell_type": "markdown",
   "id": "776542c3",
   "metadata": {},
   "source": [
    "# Accuracy"
   ]
  },
  {
   "cell_type": "code",
   "execution_count": 24,
   "id": "e511a620",
   "metadata": {},
   "outputs": [
    {
     "name": "stdout",
     "output_type": "stream",
     "text": [
      "[ Test Accuracy ]\n",
      "Accuracy Score: 0.9333333333333333\n",
      "\n",
      "Classification Report:\n",
      "              precision    recall  f1-score   support\n",
      "\n",
      "   Excellent       1.00      0.93      0.96        14\n",
      "        Fair       0.93      1.00      0.96        26\n",
      "        Good       0.97      0.94      0.95        33\n",
      "        Poor       0.00      0.00      0.00         2\n",
      "\n",
      "    accuracy                           0.93        75\n",
      "   macro avg       0.72      0.72      0.72        75\n",
      "weighted avg       0.93      0.93      0.93        75\n",
      "\n"
     ]
    }
   ],
   "source": [
    "print(\"[ Test Accuracy ]\")\n",
    "print(f\"Accuracy Score: {accuracy_score(y_test, y_test_pred)}\")\n",
    "print()\n",
    "\n",
    "print(\"Classification Report:\")\n",
    "print(classification_report(y_test, y_test_pred))"
   ]
  },
  {
   "cell_type": "code",
   "execution_count": 25,
   "id": "ab040628",
   "metadata": {},
   "outputs": [
    {
     "name": "stdout",
     "output_type": "stream",
     "text": [
      "[ Train Accuracy ]\n",
      "Accuracy Score: 0.9899665551839465\n",
      "\n",
      "Classification Report:\n",
      "              precision    recall  f1-score   support\n",
      "\n",
      "   Excellent       1.00      0.98      0.99        57\n",
      "        Fair       0.98      1.00      0.99        86\n",
      "        Good       0.99      0.99      0.99       153\n",
      "        Poor       1.00      0.67      0.80         3\n",
      "\n",
      "    accuracy                           0.99       299\n",
      "   macro avg       0.99      0.91      0.94       299\n",
      "weighted avg       0.99      0.99      0.99       299\n",
      "\n"
     ]
    }
   ],
   "source": [
    "print(\"[ Train Accuracy ]\")\n",
    "print(f\"Accuracy Score: {accuracy_score(y_train, y_train_pred)}\")\n",
    "print()\n",
    "\n",
    "print(\"Classification Report:\")\n",
    "print(classification_report(y_train, y_train_pred))"
   ]
  },
  {
   "cell_type": "markdown",
   "id": "a0dbab3c",
   "metadata": {},
   "source": [
    "# Model.pkl"
   ]
  },
  {
   "cell_type": "code",
   "execution_count": 26,
   "id": "92e2d001",
   "metadata": {},
   "outputs": [],
   "source": [
    "pickle.dump(grid, open(\"model.pkl\", \"wb\"))"
   ]
  }
 ],
 "metadata": {
  "kernelspec": {
   "display_name": "Python 3",
   "language": "python",
   "name": "python3"
  },
  "language_info": {
   "codemirror_mode": {
    "name": "ipython",
    "version": 3
   },
   "file_extension": ".py",
   "mimetype": "text/x-python",
   "name": "python",
   "nbconvert_exporter": "python",
   "pygments_lexer": "ipython3",
   "version": "3.13.3"
  }
 },
 "nbformat": 4,
 "nbformat_minor": 5
}
